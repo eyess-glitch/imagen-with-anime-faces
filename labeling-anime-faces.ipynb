{
 "cells": [
  {
   "cell_type": "code",
   "execution_count": null,
   "metadata": {
    "execution": {
     "iopub.execute_input": "2023-06-27T10:57:20.114513Z",
     "iopub.status.busy": "2023-06-27T10:57:20.114171Z",
     "iopub.status.idle": "2023-06-27T10:59:10.526678Z",
     "shell.execute_reply": "2023-06-27T10:59:10.524409Z",
     "shell.execute_reply.started": "2023-06-27T10:57:20.114485Z"
    },
    "trusted": true
   },
   "outputs": [],
   "source": [
    "#@title Setup\n",
    "import os, subprocess\n",
    "\n",
    "def setup():\n",
    "    install_cmds = [\n",
    "        ['pip', 'install', 'gradio'],\n",
    "        ['pip', 'install', 'open_clip_torch'],\n",
    "        ['pip', 'install', 'clip-interrogator'],\n",
    "    ]\n",
    "    for cmd in install_cmds:\n",
    "        print(subprocess.run(cmd, stdout=subprocess.PIPE).stdout.decode('utf-8'))\n",
    "\n",
    "setup()\n",
    "\n",
    "\n",
    "caption_model_name = 'blip-large' #@param [\"blip-base\", \"blip-large\", \"git-large-coco\"]\n",
    "clip_model_name = 'ViT-L-14/openai' #@param [\"ViT-L-14/openai\", \"ViT-H-14/laion2b_s32b_b79k\"]\n",
    "\n",
    "import gradio as gr\n",
    "from clip_interrogator import Config, Interrogator\n",
    "\n",
    "config = Config()\n",
    "config.clip_model_name = clip_model_name\n",
    "config.caption_model_name = caption_model_name\n",
    "ci = Interrogator(config)\n",
    "\n",
    "\n",
    "def image_to_prompt(image, mode):\n",
    "    ci.config.chunk_size = 2048 if ci.config.clip_model_name == \"ViT-L-14/openai\" else 1024\n",
    "    ci.config.flavor_intermediate_count = 2048 if ci.config.clip_model_name == \"ViT-L-14/openai\" else 1024\n",
    "    image = image.convert('RGB')\n",
    "    if mode == 'best':\n",
    "        return ci.interrogate(image)\n",
    "    elif mode == 'classic':\n",
    "        return ci.interrogate_classic(image)\n",
    "    elif mode == 'fast':\n",
    "        return ci.interrogate_fast(image)\n",
    "    elif mode == 'negative':\n",
    "        return ci.interrogate_negative(image)\n",
    "        "
   ]
  },
  {
   "cell_type": "code",
   "execution_count": null,
   "metadata": {
    "execution": {
     "iopub.execute_input": "2023-06-27T09:14:02.510331Z",
     "iopub.status.busy": "2023-06-27T09:14:02.509902Z",
     "iopub.status.idle": "2023-06-27T09:15:09.155464Z",
     "shell.execute_reply": "2023-06-27T09:15:09.154082Z",
     "shell.execute_reply.started": "2023-06-27T09:14:02.510299Z"
    },
    "trusted": true
   },
   "outputs": [],
   "source": [
    "import csv\n",
    "import os\n",
    "from IPython.display import clear_output, display\n",
    "from PIL import Image\n",
    "from tqdm import tqdm\n",
    "import pandas as pd\n",
    "\n",
    "\n",
    "\n",
    "folder_path = '/kaggle/input/another-anime-face-dataset/animefaces256cleaner' #@param {type:\"string\"}\n",
    "prompt_mode = 'classic' #@param [\"best\",\"fast\",\"classic\",\"negative\"]\n",
    "output_mode = 'desc.csv' #@param [\"desc.csv\",\"rename\"]\n",
    "max_filename_len = 256 #@param {type:\"integer\"}\n",
    "\n",
    "\n",
    "def sanitize_for_filename(prompt: str, max_len: int) -> str:\n",
    "    name = \"\".join(c for c in prompt if (c.isalnum() or c in \",._-! \"))\n",
    "    name = name.strip()[:(max_len-4)] # extra space for extension\n",
    "    return name\n",
    "\n",
    "ci.config.quiet = True\n",
    "\n",
    "\n",
    "df = pd.read_csv('../input/anime-faces-labels-1/labels.csv')\n",
    "\n",
    "# Estrai i nomi dalla colonna \"name\" e mettili in una lista\n",
    "name_list = df['image'].tolist()\n",
    "\n",
    "files = [f for f in os.listdir(folder_path) if f.endswith('.jpg') or f.endswith('.png')] if os.path.exists(folder_path) else []\n",
    "prompts = []\n",
    "for idx, file in enumerate(tqdm(files, desc='Generating prompts')):\n",
    "    if idx > 0 and idx % 100 == 0:\n",
    "        clear_output(wait=True)\n",
    "    \n",
    "    if file not in name_list:\n",
    "        image = Image.open(os.path.join(folder_path, file)).convert('RGB')\n",
    "        prompt = image_to_prompt(image, prompt_mode)\n",
    "        prompts.append(prompt)\n",
    "\n",
    "    if output_mode == 'rename':\n",
    "        name = sanitize_for_filename(prompt, max_filename_len)\n",
    "        ext = os.path.splitext(file)[1]\n",
    "        filename = name + ext\n",
    "        idx = 1\n",
    "        while os.path.exists(os.path.join(folder_path, filename)):\n",
    "            print(f'File {filename} already exists, trying {idx+1}...')\n",
    "            filename = f\"{name}_{idx}{ext}\"\n",
    "            idx += 1\n",
    "        os.rename(os.path.join(folder_path, file), os.path.join(folder_path, filename))\n",
    "\n",
    "if len(prompts):\n",
    "    if output_mode == 'desc.csv':\n",
    "        csv_path = os.path.join('/kaggle/working/', 'desc_1.csv')\n",
    "        with open(csv_path, 'w', encoding='utf-8', newline='') as f:\n",
    "            w = csv.writer(f, quoting=csv.QUOTE_MINIMAL)\n",
    "            w.writerow(['image', 'prompt'])\n",
    "            for file, prompt in zip(files, prompts):\n",
    "                w.writerow([file, prompt])\n",
    "\n",
    "        print(f\"\\n\\n\\n\\nGenerated {len(prompts)} prompts and saved to {csv_path}, enjoy!\")\n",
    "    else:\n",
    "        print(f\"\\n\\n\\n\\nGenerated {len(prompts)} prompts and renamed your files, enjoy!\")\n",
    "else:\n",
    "    print(f\"Sorry, I couldn't find any images in {folder_path}\")\n"
   ]
  }
 ],
 "metadata": {
  "kaggle": {
   "accelerator": "gpu",
   "dataSources": [
    {
     "datasetId": 923624,
     "sourceId": 2154267,
     "sourceType": "datasetVersion"
    },
    {
     "datasetId": 3464007,
     "sourceId": 6054286,
     "sourceType": "datasetVersion"
    }
   ],
   "dockerImageVersionId": 30498,
   "isGpuEnabled": true,
   "isInternetEnabled": true,
   "language": "python",
   "sourceType": "notebook"
  },
  "kernelspec": {
   "display_name": "Python 3",
   "language": "python",
   "name": "python3"
  },
  "language_info": {
   "codemirror_mode": {
    "name": "ipython",
    "version": 3
   },
   "file_extension": ".py",
   "mimetype": "text/x-python",
   "name": "python",
   "nbconvert_exporter": "python",
   "pygments_lexer": "ipython3",
   "version": "3.6.4"
  }
 },
 "nbformat": 4,
 "nbformat_minor": 4
}
